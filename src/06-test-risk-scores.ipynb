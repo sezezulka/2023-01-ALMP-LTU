{
 "cells": [
  {
   "cell_type": "markdown",
   "id": "37ca1cf1-e52f-4cce-baf6-e6782d587a4e",
   "metadata": {},
   "source": [
    "# Fairness analysis of risk scores"
   ]
  },
  {
   "cell_type": "code",
   "execution_count": 17,
   "id": "298c2934-f9ab-4d6f-bf8d-dbc1da059fd1",
   "metadata": {},
   "outputs": [],
   "source": [
    "import os\n",
    "import numpy as np\n",
    "import pandas as pd\n",
    "import matplotlib.pyplot as plt\n",
    "\n",
    "from sklearn.metrics import accuracy_score\n",
    "\n",
    "\n",
    "from holisticai.bias.plots import correlation_matrix_plot, abroca_plot\n",
    "from holisticai.bias.metrics import classification_bias_metrics, abroca\n",
    "from holisticai.efficacy.metrics import classification_efficacy_metrics\n",
    "\n",
    "from fairlearn.metrics import equalized_odds_difference, equalized_odds_ratio, demographic_parity_difference, demographic_parity_ratio"
   ]
  },
  {
   "cell_type": "code",
   "execution_count": 99,
   "id": "c2f8f98d-236c-4f67-9c09-90818dbdcd81",
   "metadata": {},
   "outputs": [
    {
     "data": {
      "text/html": [
       "<div>\n",
       "<style scoped>\n",
       "    .dataframe tbody tr th:only-of-type {\n",
       "        vertical-align: middle;\n",
       "    }\n",
       "\n",
       "    .dataframe tbody tr th {\n",
       "        vertical-align: top;\n",
       "    }\n",
       "\n",
       "    .dataframe thead th {\n",
       "        text-align: right;\n",
       "    }\n",
       "</style>\n",
       "<table border=\"1\" class=\"dataframe\">\n",
       "  <thead>\n",
       "    <tr style=\"text-align: right;\">\n",
       "      <th></th>\n",
       "      <th>Unnamed: 0</th>\n",
       "      <th>ID</th>\n",
       "      <th>age</th>\n",
       "      <th>canton_french</th>\n",
       "      <th>canton_german</th>\n",
       "      <th>canton_italian</th>\n",
       "      <th>canton_moth_tongue</th>\n",
       "      <th>city</th>\n",
       "      <th>city_big</th>\n",
       "      <th>city_medium</th>\n",
       "      <th>...</th>\n",
       "      <th>sd_policy_Austrian_risk_score_eo_lower_1</th>\n",
       "      <th>sd_policy_Austrian_risk_score_eo_lower_2</th>\n",
       "      <th>sd_policy_Austrian_risk_score_eo_lower_3</th>\n",
       "      <th>sd_policy_Austrian_risk_score_eo_lower_4</th>\n",
       "      <th>sd_policy_Austrian_risk_score_eo_lower_5</th>\n",
       "      <th>sd_policy_Austrian_risk_score_if_lower_1</th>\n",
       "      <th>sd_policy_Austrian_risk_score_if_lower_2</th>\n",
       "      <th>sd_policy_Austrian_risk_score_if_lower_3</th>\n",
       "      <th>sd_policy_Austrian_risk_score_if_lower_4</th>\n",
       "      <th>sd_policy_Austrian_risk_score_if_lower_5</th>\n",
       "    </tr>\n",
       "  </thead>\n",
       "  <tbody>\n",
       "    <tr>\n",
       "      <th>0</th>\n",
       "      <td>1</td>\n",
       "      <td>29410</td>\n",
       "      <td>49</td>\n",
       "      <td>0</td>\n",
       "      <td>1</td>\n",
       "      <td>0</td>\n",
       "      <td>0</td>\n",
       "      <td>3</td>\n",
       "      <td>1</td>\n",
       "      <td>0</td>\n",
       "      <td>...</td>\n",
       "      <td>0.000000</td>\n",
       "      <td>0.025522</td>\n",
       "      <td>0.025522</td>\n",
       "      <td>0.027284</td>\n",
       "      <td>0.027284</td>\n",
       "      <td>0.082857</td>\n",
       "      <td>0.099913</td>\n",
       "      <td>0.056883</td>\n",
       "      <td>0.048936</td>\n",
       "      <td>0.111881</td>\n",
       "    </tr>\n",
       "    <tr>\n",
       "      <th>1</th>\n",
       "      <td>2</td>\n",
       "      <td>2306</td>\n",
       "      <td>47</td>\n",
       "      <td>0</td>\n",
       "      <td>1</td>\n",
       "      <td>0</td>\n",
       "      <td>0</td>\n",
       "      <td>1</td>\n",
       "      <td>0</td>\n",
       "      <td>0</td>\n",
       "      <td>...</td>\n",
       "      <td>0.129951</td>\n",
       "      <td>0.112460</td>\n",
       "      <td>0.099804</td>\n",
       "      <td>0.115060</td>\n",
       "      <td>0.111635</td>\n",
       "      <td>0.106649</td>\n",
       "      <td>0.107784</td>\n",
       "      <td>0.104306</td>\n",
       "      <td>0.078342</td>\n",
       "      <td>0.111952</td>\n",
       "    </tr>\n",
       "    <tr>\n",
       "      <th>2</th>\n",
       "      <td>3</td>\n",
       "      <td>48710</td>\n",
       "      <td>42</td>\n",
       "      <td>0</td>\n",
       "      <td>1</td>\n",
       "      <td>0</td>\n",
       "      <td>0</td>\n",
       "      <td>1</td>\n",
       "      <td>0</td>\n",
       "      <td>0</td>\n",
       "      <td>...</td>\n",
       "      <td>0.089981</td>\n",
       "      <td>0.118963</td>\n",
       "      <td>0.094978</td>\n",
       "      <td>0.074377</td>\n",
       "      <td>0.090354</td>\n",
       "      <td>0.090889</td>\n",
       "      <td>0.095031</td>\n",
       "      <td>0.119094</td>\n",
       "      <td>0.108857</td>\n",
       "      <td>0.108307</td>\n",
       "    </tr>\n",
       "    <tr>\n",
       "      <th>3</th>\n",
       "      <td>4</td>\n",
       "      <td>9665</td>\n",
       "      <td>50</td>\n",
       "      <td>0</td>\n",
       "      <td>1</td>\n",
       "      <td>0</td>\n",
       "      <td>0</td>\n",
       "      <td>1</td>\n",
       "      <td>0</td>\n",
       "      <td>0</td>\n",
       "      <td>...</td>\n",
       "      <td>0.000000</td>\n",
       "      <td>0.034346</td>\n",
       "      <td>0.035054</td>\n",
       "      <td>0.028043</td>\n",
       "      <td>0.034346</td>\n",
       "      <td>0.093497</td>\n",
       "      <td>0.083167</td>\n",
       "      <td>0.060916</td>\n",
       "      <td>0.096911</td>\n",
       "      <td>0.042485</td>\n",
       "    </tr>\n",
       "    <tr>\n",
       "      <th>4</th>\n",
       "      <td>5</td>\n",
       "      <td>65086</td>\n",
       "      <td>55</td>\n",
       "      <td>0</td>\n",
       "      <td>1</td>\n",
       "      <td>0</td>\n",
       "      <td>0</td>\n",
       "      <td>1</td>\n",
       "      <td>0</td>\n",
       "      <td>0</td>\n",
       "      <td>...</td>\n",
       "      <td>0.000000</td>\n",
       "      <td>0.000000</td>\n",
       "      <td>0.005230</td>\n",
       "      <td>0.005230</td>\n",
       "      <td>0.004892</td>\n",
       "      <td>0.104249</td>\n",
       "      <td>0.075866</td>\n",
       "      <td>0.100223</td>\n",
       "      <td>0.087461</td>\n",
       "      <td>0.065925</td>\n",
       "    </tr>\n",
       "  </tbody>\n",
       "</table>\n",
       "<p>5 rows × 304 columns</p>\n",
       "</div>"
      ],
      "text/plain": [
       "   Unnamed: 0     ID  age  canton_french  canton_german  canton_italian  \\\n",
       "0           1  29410   49              0              1               0   \n",
       "1           2   2306   47              0              1               0   \n",
       "2           3  48710   42              0              1               0   \n",
       "3           4   9665   50              0              1               0   \n",
       "4           5  65086   55              0              1               0   \n",
       "\n",
       "   canton_moth_tongue  city  city_big  city_medium  ...  \\\n",
       "0                   0     3         1            0  ...   \n",
       "1                   0     1         0            0  ...   \n",
       "2                   0     1         0            0  ...   \n",
       "3                   0     1         0            0  ...   \n",
       "4                   0     1         0            0  ...   \n",
       "\n",
       "   sd_policy_Austrian_risk_score_eo_lower_1  \\\n",
       "0                                  0.000000   \n",
       "1                                  0.129951   \n",
       "2                                  0.089981   \n",
       "3                                  0.000000   \n",
       "4                                  0.000000   \n",
       "\n",
       "   sd_policy_Austrian_risk_score_eo_lower_2  \\\n",
       "0                                  0.025522   \n",
       "1                                  0.112460   \n",
       "2                                  0.118963   \n",
       "3                                  0.034346   \n",
       "4                                  0.000000   \n",
       "\n",
       "   sd_policy_Austrian_risk_score_eo_lower_3  \\\n",
       "0                                  0.025522   \n",
       "1                                  0.099804   \n",
       "2                                  0.094978   \n",
       "3                                  0.035054   \n",
       "4                                  0.005230   \n",
       "\n",
       "   sd_policy_Austrian_risk_score_eo_lower_4  \\\n",
       "0                                  0.027284   \n",
       "1                                  0.115060   \n",
       "2                                  0.074377   \n",
       "3                                  0.028043   \n",
       "4                                  0.005230   \n",
       "\n",
       "   sd_policy_Austrian_risk_score_eo_lower_5  \\\n",
       "0                                  0.027284   \n",
       "1                                  0.111635   \n",
       "2                                  0.090354   \n",
       "3                                  0.034346   \n",
       "4                                  0.004892   \n",
       "\n",
       "   sd_policy_Austrian_risk_score_if_lower_1  \\\n",
       "0                                  0.082857   \n",
       "1                                  0.106649   \n",
       "2                                  0.090889   \n",
       "3                                  0.093497   \n",
       "4                                  0.104249   \n",
       "\n",
       "   sd_policy_Austrian_risk_score_if_lower_2  \\\n",
       "0                                  0.099913   \n",
       "1                                  0.107784   \n",
       "2                                  0.095031   \n",
       "3                                  0.083167   \n",
       "4                                  0.075866   \n",
       "\n",
       "   sd_policy_Austrian_risk_score_if_lower_3  \\\n",
       "0                                  0.056883   \n",
       "1                                  0.104306   \n",
       "2                                  0.119094   \n",
       "3                                  0.060916   \n",
       "4                                  0.100223   \n",
       "\n",
       "   sd_policy_Austrian_risk_score_if_lower_4  \\\n",
       "0                                  0.048936   \n",
       "1                                  0.078342   \n",
       "2                                  0.108857   \n",
       "3                                  0.096911   \n",
       "4                                  0.087461   \n",
       "\n",
       "   sd_policy_Austrian_risk_score_if_lower_5  \n",
       "0                                  0.111881  \n",
       "1                                  0.111952  \n",
       "2                                  0.108307  \n",
       "3                                  0.042485  \n",
       "4                                  0.065925  \n",
       "\n",
       "[5 rows x 304 columns]"
      ]
     },
     "execution_count": 99,
     "metadata": {},
     "output_type": "execute_result"
    }
   ],
   "source": [
    "os.chdir('C:\\\\Users\\\\Zezulka\\\\Documents\\\\01_PhD\\\\030-Projects\\\\2023-01_ALMP_LTU\\\\')\n",
    "\n",
    "# file = 'data\\\\1203_ALMP_effects_risk_fairFemale0001.csv'\n",
    "# file = 'data\\\\1203_ALMP_effects_risk_fairFemale_mixed.csv'\n",
    "# file = \"data\\\\1203_ALMP_effects_risk_fairFemale_001.csv\"\n",
    "file = \"data\\\\1203_ALMP_effects_risk_fairFemale_sim.csv\"\n",
    "\n",
    "df = pd.read_csv(file)\n",
    "\n",
    "df.head()"
   ]
  },
  {
   "cell_type": "code",
   "execution_count": 100,
   "id": "019aaf54-ba94-4e74-bc6d-9f084871738b",
   "metadata": {},
   "outputs": [],
   "source": [
    "# groups \n",
    "female = np.squeeze((df['female'] == 1).values)\n",
    "male = np.squeeze((df['female'] == 0).values)\n",
    "\n",
    "non_citizen = np.squeeze((df['swiss'] == 0).values)\n",
    "citizen = np.squeeze((df['swiss'] == 1).values)\n",
    "\n",
    "# threshold\n",
    "t = 0.5\n",
    "\n",
    "# y_true\n",
    "y_true = df['y_exit12']\n",
    "# y_true = 1 - df['y_exit12']"
   ]
  },
  {
   "cell_type": "code",
   "execution_count": 101,
   "id": "1ec9f1b0-5d8b-40e2-9006-4357ba57a974",
   "metadata": {},
   "outputs": [],
   "source": [
    "# classification quality\n",
    "# df_classification_old = classification_efficacy_metrics(y_true, (df['risk_score_logistic'] >= t).astype(int))\n",
    "df_classification = classification_efficacy_metrics(y_true, (df['risk_score_log'] >= t).astype(int))\n",
    "df_classification_sp = classification_efficacy_metrics(y_true, (df['risk_score_sp'] >= t).astype(int))\n",
    "df_classification_eo = classification_efficacy_metrics(y_true, (df['risk_score_eo'] >= t).astype(int))\n",
    "# df_classification_if = classification_efficacy_metrics(y_true, (df['risk_score_if'] >= t).astype(int))\n",
    "\n",
    "# df_class_naive = classification_efficacy_metrics(y_test, y_pred_logreg)\n",
    "\n",
    "classification = pd.concat([df_classification, df_classification_sp, df_classification_eo], axis=1).iloc[:, [0,2,4,1]]\n",
    "classification.columns = ['Baseline','SP','EO','Reference']"
   ]
  },
  {
   "cell_type": "code",
   "execution_count": 102,
   "id": "0c942a13-120a-4aac-82a3-d47d071253af",
   "metadata": {},
   "outputs": [],
   "source": [
    "# fairness analysis: group_a = female\n",
    "'''\n",
    "df_baseline_old = classification_bias_metrics(female, \n",
    "                                              male, \n",
    "                                              (df['risk_score_logistic'] >= t).astype(int),\n",
    "                                              y_true)\n",
    "'''\n",
    "df_baseline = classification_bias_metrics(female, \n",
    "                                          male, \n",
    "                                          (df['risk_score_log'] >= t).astype(int),\n",
    "                                          y_true)\n",
    "df_sp = classification_bias_metrics(female, \n",
    "                                    male, \n",
    "                                    (df['risk_score_sp'] >= t).astype(int),\n",
    "                                    y_true)\n",
    "df_eo = classification_bias_metrics(female, \n",
    "                                    male, \n",
    "                                    (df['risk_score_eo'] >= t).astype(int),\n",
    "                                    y_true)\n",
    "'''\n",
    "df_if = classification_bias_metrics(female, \n",
    "                                    male, \n",
    "                                    (df['risk_score_if'] >= t).astype(int),\n",
    "                                    y_true)\n",
    "\n",
    "df_naive_log = classification_bias_metrics(female_naive, \n",
    "                                           male_naive, \n",
    "                                           y_pred_logreg,\n",
    "                                           y_test)\n",
    "'''\n",
    "result = pd.concat([df_baseline, df_sp, df_eo], axis=1).iloc[:, [0,2,4,1]]\n",
    "result.columns = ['Baseline','SP','EO','Reference']"
   ]
  },
  {
   "cell_type": "markdown",
   "id": "fd213bd2-47d0-4988-8e8a-d95bfe90417c",
   "metadata": {},
   "source": [
    "# Compare results"
   ]
  },
  {
   "cell_type": "code",
   "execution_count": 103,
   "id": "c39c2248-74da-45b5-9488-858a0d9a2211",
   "metadata": {},
   "outputs": [
    {
     "data": {
      "text/html": [
       "<div>\n",
       "<style scoped>\n",
       "    .dataframe tbody tr th:only-of-type {\n",
       "        vertical-align: middle;\n",
       "    }\n",
       "\n",
       "    .dataframe tbody tr th {\n",
       "        vertical-align: top;\n",
       "    }\n",
       "\n",
       "    .dataframe thead th {\n",
       "        text-align: right;\n",
       "    }\n",
       "</style>\n",
       "<table border=\"1\" class=\"dataframe\">\n",
       "  <thead>\n",
       "    <tr style=\"text-align: right;\">\n",
       "      <th></th>\n",
       "      <th>Baseline</th>\n",
       "      <th>SP</th>\n",
       "      <th>EO</th>\n",
       "      <th>Reference</th>\n",
       "    </tr>\n",
       "    <tr>\n",
       "      <th>Metric</th>\n",
       "      <th></th>\n",
       "      <th></th>\n",
       "      <th></th>\n",
       "      <th></th>\n",
       "    </tr>\n",
       "  </thead>\n",
       "  <tbody>\n",
       "    <tr>\n",
       "      <th>Accuracy</th>\n",
       "      <td>0.643959</td>\n",
       "      <td>0.643959</td>\n",
       "      <td>0.644519</td>\n",
       "      <td>1</td>\n",
       "    </tr>\n",
       "    <tr>\n",
       "      <th>Balanced Accuracy</th>\n",
       "      <td>0.605870</td>\n",
       "      <td>0.608890</td>\n",
       "      <td>0.609357</td>\n",
       "      <td>1</td>\n",
       "    </tr>\n",
       "    <tr>\n",
       "      <th>Precision</th>\n",
       "      <td>0.612296</td>\n",
       "      <td>0.605352</td>\n",
       "      <td>0.606604</td>\n",
       "      <td>1</td>\n",
       "    </tr>\n",
       "    <tr>\n",
       "      <th>Recall</th>\n",
       "      <td>0.383559</td>\n",
       "      <td>0.404204</td>\n",
       "      <td>0.404129</td>\n",
       "      <td>1</td>\n",
       "    </tr>\n",
       "    <tr>\n",
       "      <th>F1-Score</th>\n",
       "      <td>0.471658</td>\n",
       "      <td>0.484739</td>\n",
       "      <td>0.485086</td>\n",
       "      <td>1</td>\n",
       "    </tr>\n",
       "  </tbody>\n",
       "</table>\n",
       "</div>"
      ],
      "text/plain": [
       "                   Baseline        SP        EO  Reference\n",
       "Metric                                                    \n",
       "Accuracy           0.643959  0.643959  0.644519          1\n",
       "Balanced Accuracy  0.605870  0.608890  0.609357          1\n",
       "Precision          0.612296  0.605352  0.606604          1\n",
       "Recall             0.383559  0.404204  0.404129          1\n",
       "F1-Score           0.471658  0.484739  0.485086          1"
      ]
     },
     "execution_count": 103,
     "metadata": {},
     "output_type": "execute_result"
    }
   ],
   "source": [
    "classification"
   ]
  },
  {
   "cell_type": "code",
   "execution_count": 104,
   "id": "e2402f14-0e36-464c-92d8-c4da9b98caf8",
   "metadata": {},
   "outputs": [
    {
     "data": {
      "text/html": [
       "<div>\n",
       "<style scoped>\n",
       "    .dataframe tbody tr th:only-of-type {\n",
       "        vertical-align: middle;\n",
       "    }\n",
       "\n",
       "    .dataframe tbody tr th {\n",
       "        vertical-align: top;\n",
       "    }\n",
       "\n",
       "    .dataframe thead th {\n",
       "        text-align: right;\n",
       "    }\n",
       "</style>\n",
       "<table border=\"1\" class=\"dataframe\">\n",
       "  <thead>\n",
       "    <tr style=\"text-align: right;\">\n",
       "      <th></th>\n",
       "      <th>Baseline</th>\n",
       "      <th>SP</th>\n",
       "      <th>EO</th>\n",
       "      <th>Reference</th>\n",
       "    </tr>\n",
       "    <tr>\n",
       "      <th>Metric</th>\n",
       "      <th></th>\n",
       "      <th></th>\n",
       "      <th></th>\n",
       "      <th></th>\n",
       "    </tr>\n",
       "  </thead>\n",
       "  <tbody>\n",
       "    <tr>\n",
       "      <th>Statistical Parity</th>\n",
       "      <td>0.116257</td>\n",
       "      <td>0.040623</td>\n",
       "      <td>0.019089</td>\n",
       "      <td>0</td>\n",
       "    </tr>\n",
       "    <tr>\n",
       "      <th>Disparate Impact</th>\n",
       "      <td>1.556759</td>\n",
       "      <td>1.156889</td>\n",
       "      <td>1.071307</td>\n",
       "      <td>1</td>\n",
       "    </tr>\n",
       "    <tr>\n",
       "      <th>Four Fifths Rule</th>\n",
       "      <td>0.642360</td>\n",
       "      <td>0.864387</td>\n",
       "      <td>0.933439</td>\n",
       "      <td>1</td>\n",
       "    </tr>\n",
       "    <tr>\n",
       "      <th>Cohen D</th>\n",
       "      <td>0.267515</td>\n",
       "      <td>0.090901</td>\n",
       "      <td>0.042711</td>\n",
       "      <td>0</td>\n",
       "    </tr>\n",
       "    <tr>\n",
       "      <th>2SD Rule</th>\n",
       "      <td>23.581403</td>\n",
       "      <td>8.074918</td>\n",
       "      <td>3.797135</td>\n",
       "      <td>0</td>\n",
       "    </tr>\n",
       "    <tr>\n",
       "      <th>Equality of Opportunity Difference</th>\n",
       "      <td>0.172736</td>\n",
       "      <td>0.069538</td>\n",
       "      <td>0.043985</td>\n",
       "      <td>0</td>\n",
       "    </tr>\n",
       "    <tr>\n",
       "      <th>False Positive Rate Difference</th>\n",
       "      <td>0.061541</td>\n",
       "      <td>0.005179</td>\n",
       "      <td>-0.013575</td>\n",
       "      <td>0</td>\n",
       "    </tr>\n",
       "    <tr>\n",
       "      <th>Average Odds Difference</th>\n",
       "      <td>0.117138</td>\n",
       "      <td>0.037359</td>\n",
       "      <td>0.015205</td>\n",
       "      <td>0</td>\n",
       "    </tr>\n",
       "    <tr>\n",
       "      <th>Accuracy Difference</th>\n",
       "      <td>0.019174</td>\n",
       "      <td>0.010068</td>\n",
       "      <td>0.010213</td>\n",
       "      <td>0</td>\n",
       "    </tr>\n",
       "  </tbody>\n",
       "</table>\n",
       "</div>"
      ],
      "text/plain": [
       "                                     Baseline        SP        EO  Reference\n",
       "Metric                                                                      \n",
       "Statistical Parity                   0.116257  0.040623  0.019089          0\n",
       "Disparate Impact                     1.556759  1.156889  1.071307          1\n",
       "Four Fifths Rule                     0.642360  0.864387  0.933439          1\n",
       "Cohen D                              0.267515  0.090901  0.042711          0\n",
       "2SD Rule                            23.581403  8.074918  3.797135          0\n",
       "Equality of Opportunity Difference   0.172736  0.069538  0.043985          0\n",
       "False Positive Rate Difference       0.061541  0.005179 -0.013575          0\n",
       "Average Odds Difference              0.117138  0.037359  0.015205          0\n",
       "Accuracy Difference                  0.019174  0.010068  0.010213          0"
      ]
     },
     "execution_count": 104,
     "metadata": {},
     "output_type": "execute_result"
    }
   ],
   "source": [
    "result"
   ]
  },
  {
   "cell_type": "code",
   "execution_count": 96,
   "id": "11f414b9-a53c-4e78-a103-8050cb89b920",
   "metadata": {},
   "outputs": [
    {
     "data": {
      "text/plain": [
       "0.6479937281733305"
      ]
     },
     "execution_count": 96,
     "metadata": {},
     "output_type": "execute_result"
    }
   ],
   "source": [
    "accuracy_score(df[df['female']==1]['y_exit12'], (df[df['female']==1]['risk_score_eo'] >= 0.5).astype(int))"
   ]
  },
  {
   "cell_type": "code",
   "execution_count": 97,
   "id": "519021ce-4336-4f39-9ed9-aeca16fd7f2d",
   "metadata": {},
   "outputs": [
    {
     "data": {
      "text/plain": [
       "0.6420489043439863"
      ]
     },
     "execution_count": 97,
     "metadata": {},
     "output_type": "execute_result"
    }
   ],
   "source": [
    "accuracy_score(df[df['female']==0]['y_exit12'], (df[df['female']==0]['risk_score_eo'] >= 0.5).astype(int))"
   ]
  },
  {
   "cell_type": "code",
   "execution_count": 98,
   "id": "3d423ab7-9a80-4b1f-bb1e-065c67936229",
   "metadata": {},
   "outputs": [
    {
     "data": {
      "text/plain": [
       "0.5635498320268757"
      ]
     },
     "execution_count": 98,
     "metadata": {},
     "output_type": "execute_result"
    }
   ],
   "source": [
    "1 - df['female'].mean()"
   ]
  },
  {
   "cell_type": "code",
   "execution_count": null,
   "id": "92b56113-94ac-40b6-bd9f-fb72dc21beb6",
   "metadata": {},
   "outputs": [],
   "source": []
  },
  {
   "cell_type": "code",
   "execution_count": 33,
   "id": "18522dbc-e5d3-43d8-a36a-befbc081d69a",
   "metadata": {},
   "outputs": [
    {
     "data": {
      "text/plain": [
       "0.4143337066069429"
      ]
     },
     "execution_count": 33,
     "metadata": {},
     "output_type": "execute_result"
    }
   ],
   "source": [
    "df['y_exit12'].mean()"
   ]
  },
  {
   "cell_type": "code",
   "execution_count": 34,
   "id": "5697c465-1048-4df2-9c8f-24962db9fd02",
   "metadata": {},
   "outputs": [
    {
     "data": {
      "text/plain": [
       "0.4126080054016466"
      ]
     },
     "execution_count": 34,
     "metadata": {},
     "output_type": "execute_result"
    }
   ],
   "source": [
    "df['risk_score_log'].mean()"
   ]
  },
  {
   "cell_type": "code",
   "execution_count": 35,
   "id": "a14316ba-9077-47b8-884a-382e291fe060",
   "metadata": {},
   "outputs": [
    {
     "data": {
      "text/plain": [
       "0.41296761377223096"
      ]
     },
     "execution_count": 35,
     "metadata": {},
     "output_type": "execute_result"
    }
   ],
   "source": [
    "df['risk_score_sp'].mean()"
   ]
  },
  {
   "cell_type": "code",
   "execution_count": 36,
   "id": "2ab0cc5a-185d-4323-ba3c-6190294da4cb",
   "metadata": {},
   "outputs": [
    {
     "data": {
      "text/plain": [
       "0.41297209106730737"
      ]
     },
     "execution_count": 36,
     "metadata": {},
     "output_type": "execute_result"
    }
   ],
   "source": [
    "df['risk_score_eo'].mean()"
   ]
  },
  {
   "cell_type": "code",
   "execution_count": 37,
   "id": "1cf2b806-9275-4d0b-bd7f-c5f547f180e3",
   "metadata": {},
   "outputs": [
    {
     "data": {
      "text/plain": [
       "0.4129626187154695"
      ]
     },
     "execution_count": 37,
     "metadata": {},
     "output_type": "execute_result"
    }
   ],
   "source": [
    "df['risk_score_if'].mean()"
   ]
  },
  {
   "cell_type": "markdown",
   "id": "e783912e-3515-4674-8263-c63a228c458d",
   "metadata": {},
   "source": [
    "## Independence Test"
   ]
  },
  {
   "cell_type": "code",
   "execution_count": 14,
   "id": "8c7a364d-d345-4322-b31b-d38a177bf059",
   "metadata": {
    "collapsed": true,
    "jupyter": {
     "outputs_hidden": true,
     "source_hidden": true
    }
   },
   "outputs": [
    {
     "name": "stdout",
     "output_type": "stream",
     "text": [
      "P(y_hat=1|A=1) - P(y_hat=1|A=0) = 0.05022653753115125\n",
      "P(y_hat=1|A=1) - P(y_hat=1|A=0) = 0.011916664617669659\n",
      "P(y_hat=1|A=1) - P(y_hat=1|A=0) = 0.0011475422901095489\n",
      "P(y_hat=1|A=1) - P(y_hat=1|A=0) = 0.002774361556345306\n"
     ]
    }
   ],
   "source": [
    "# log\n",
    "p_0 = df['risk_score_log'][female==0].mean()\n",
    "p_1 = df['risk_score_log'][female==1].mean()\n",
    "\n",
    "print('P(y_hat=1|A=1) - P(y_hat=1|A=0) = ' + str(np.abs(p_1 - p_0)))\n",
    "# print('P(y_hat=0|A=1) - P(y_hat=0|A=0) = ' + str(np.abs((1-p_1) - (1-p_0))))\n",
    "\n",
    "# sp\n",
    "p_0 = df['risk_score_sp'][female==0].mean()\n",
    "p_1 = df['risk_score_sp'][female==1].mean()\n",
    "\n",
    "print('P(y_hat=1|A=1) - P(y_hat=1|A=0) = ' + str(np.abs(p_1 - p_0)))\n",
    "\n",
    "# eo\n",
    "p_0 = df['risk_score_eo'][female==0].mean()\n",
    "p_1 = df['risk_score_eo'][female==1].mean()\n",
    "\n",
    "print('P(y_hat=1|A=1) - P(y_hat=1|A=0) = ' + str(np.abs(p_1 - p_0)))\n",
    "\n",
    "# if\n",
    "p_0 = df['risk_score_if'][female==0].mean()\n",
    "p_1 = df['risk_score_if'][female==1].mean()\n",
    "\n",
    "print('P(y_hat=1|A=1) - P(y_hat=1|A=0) = ' + str(np.abs(p_1 - p_0)))"
   ]
  },
  {
   "cell_type": "code",
   "execution_count": 48,
   "id": "76a21d96-b04f-434d-8864-3c9a5fd98442",
   "metadata": {},
   "outputs": [
    {
     "name": "stdout",
     "output_type": "stream",
     "text": [
      "Log:\n",
      "P(y_hat=1|A=1) - P(y_hat=1|A=0) = 0.11852688123731986\n",
      "SP:\n",
      "P(y_hat=1|A=1) - P(y_hat=1|A=0) = 0.023667166907369253\n",
      "EO:\n",
      "P(y_hat=1|A=1) - P(y_hat=1|A=0) = 0.01908916255018739\n"
     ]
    }
   ],
   "source": [
    "# log\n",
    "p_0 = (df['risk_score_log'] >= t).astype(int)[female==0].mean()\n",
    "p_1 = (df['risk_score_log'] >= t).astype(int)[female==1].mean()\n",
    "\n",
    "print('Log:')\n",
    "print('P(y_hat=1|A=1) - P(y_hat=1|A=0) = ' + str((p_1 - p_0)))\n",
    "# print('P(y_hat=0|A=1) - P(y_hat=0|A=0) = ' + str(np.abs((1-p_1) - (1-p_0))))\n",
    "\n",
    "# sp\n",
    "p_0 = (df['risk_score_sp'] >= t).astype(int)[female==0].mean()\n",
    "p_1 = (df['risk_score_sp'] >= t).astype(int)[female==1].mean()\n",
    "\n",
    "print('SP:')\n",
    "print('P(y_hat=1|A=1) - P(y_hat=1|A=0) = ' + str(np.abs(p_1 - p_0)))\n",
    "\n",
    "# eo\n",
    "p_0 = (df['risk_score_eo'] >= t).astype(int)[female==0].mean()\n",
    "p_1 = (df['risk_score_eo'] >= t).astype(int)[female==1].mean()\n",
    "\n",
    "print('EO:')\n",
    "print('P(y_hat=1|A=1) - P(y_hat=1|A=0) = ' + str(np.abs(p_1 - p_0)))\n",
    "\n",
    "# if\n",
    "# p_0 = (df['risk_score_if'] >= t).astype(int)[female==0].mean()\n",
    "# p_1 = (df['risk_score_if'] >= t).astype(int)[female==1].mean()\n",
    "\n",
    "# print('IF:')\n",
    "# print('P(y_hat=1|A=1) - P(y_hat=1|A=0) = ' + str(np.abs(p_1 - p_0)))"
   ]
  },
  {
   "cell_type": "markdown",
   "id": "8befcb46-a598-455d-ade7-216aa5a6b2c2",
   "metadata": {},
   "source": [
    "## Separation Test"
   ]
  },
  {
   "cell_type": "code",
   "execution_count": 209,
   "id": "979ddb09-66b4-4d9d-85e3-fdb2a308fb2b",
   "metadata": {
    "collapsed": true,
    "jupyter": {
     "outputs_hidden": true,
     "source_hidden": true
    }
   },
   "outputs": [
    {
     "name": "stdout",
     "output_type": "stream",
     "text": [
      "P(y_hat=1|A=1,Y=1) - P(y_hat=1|A=0,Y=1) = 0.055552490098754626\n",
      "P(y_hat=1|A=1,Y=0) - P(y_hat=1|A=0,Y=0) = 0.036046976621530225\n"
     ]
    }
   ],
   "source": [
    "# log\n",
    "p_1_tpr = df['risk_score_log'][(df['y_exit12'] == 1) & (df['female'] == 1)].mean()\n",
    "p_0_tpr = df['risk_score_log'][(df['y_exit12'] == 1) & (df['female'] == 0)].mean()\n",
    "\n",
    "p_1_fpr = df['risk_score_log'][(df['y_exit12'] == 0) & (df['female'] == 1)].mean()\n",
    "p_0_fpr = df['risk_score_log'][(df['y_exit12'] == 0) & (df['female'] == 0)].mean()\n",
    "\n",
    "print('P(y_hat=1|A=1,Y=1) - P(y_hat=1|A=0,Y=1) = ' + str(np.abs(p_1_tpr - p_0_tpr)))\n",
    "print('P(y_hat=1|A=1,Y=0) - P(y_hat=1|A=0,Y=0) = ' + str(np.abs(p_1_fpr - p_0_fpr)))\n"
   ]
  },
  {
   "cell_type": "code",
   "execution_count": 105,
   "id": "4500ca11-7bcf-44d0-933c-e0ec11cfcabe",
   "metadata": {},
   "outputs": [
    {
     "name": "stdout",
     "output_type": "stream",
     "text": [
      "Log:\n",
      "P(y_hat=1|A=1,Y=1) - P(y_hat=1|A=0,Y=1) = 0.17273590437302494\n",
      "P(y_hat=1|A=1,Y=0) - P(y_hat=1|A=0,Y=0) = 0.06154068490942541\n",
      "SP:\n",
      "P(y_hat=1|A=1,Y=1) - P(y_hat=1|A=0,Y=1) = 0.06953847406477615\n",
      "P(y_hat=1|A=1,Y=0) - P(y_hat=1|A=0,Y=0) = 0.0051793426603745085\n",
      "EO:\n",
      "P(y_hat=1|A=1,Y=1) - P(y_hat=1|A=0,Y=1) = 0.04398486031491289\n",
      "P(y_hat=1|A=1,Y=0) - P(y_hat=1|A=0,Y=0) = 0.013575486223437655\n",
      "If:\n",
      "P(y_hat=1|A=1,Y=1) - P(y_hat=1|A=0,Y=1) = 0.04842863850465218\n",
      "P(y_hat=1|A=1,Y=0) - P(y_hat=1|A=0,Y=0) = 0.01101583040126286\n"
     ]
    }
   ],
   "source": [
    "# log\n",
    "p_1_tpr = (df['risk_score_log'] >= t).astype(int)[(df['y_exit12'] == 1) & (df['female'] == 1)].mean()\n",
    "p_0_tpr = (df['risk_score_log'] >= t).astype(int)[(df['y_exit12'] == 1) & (df['female'] == 0)].mean()\n",
    "\n",
    "p_1_fpr = (df['risk_score_log'] >= t).astype(int)[(df['y_exit12'] == 0) & (df['female'] == 1)].mean()\n",
    "p_0_fpr = (df['risk_score_log'] >= t).astype(int)[(df['y_exit12'] == 0) & (df['female'] == 0)].mean()\n",
    "\n",
    "print('Log:')\n",
    "print('P(y_hat=1|A=1,Y=1) - P(y_hat=1|A=0,Y=1) = ' + str(np.abs(p_1_tpr - p_0_tpr)))\n",
    "print('P(y_hat=1|A=1,Y=0) - P(y_hat=1|A=0,Y=0) = ' + str(np.abs(p_1_fpr - p_0_fpr)))\n",
    "\n",
    "# sp\n",
    "p_1_tpr = (df['risk_score_sp'] >= t).astype(int)[(df['y_exit12'] == 1) & (df['female'] == 1)].mean()\n",
    "p_0_tpr = (df['risk_score_sp'] >= t).astype(int)[(df['y_exit12'] == 1) & (df['female'] == 0)].mean()\n",
    "\n",
    "p_1_fpr = (df['risk_score_sp'] >= t).astype(int)[(df['y_exit12'] == 0) & (df['female'] == 1)].mean()\n",
    "p_0_fpr = (df['risk_score_sp'] >= t).astype(int)[(df['y_exit12'] == 0) & (df['female'] == 0)].mean()\n",
    "\n",
    "print('SP:')\n",
    "print('P(y_hat=1|A=1,Y=1) - P(y_hat=1|A=0,Y=1) = ' + str(np.abs(p_1_tpr - p_0_tpr)))\n",
    "print('P(y_hat=1|A=1,Y=0) - P(y_hat=1|A=0,Y=0) = ' + str(np.abs(p_1_fpr - p_0_fpr)))\n",
    "\n",
    "# eo\n",
    "p_1_tpr = (df['risk_score_eo'] >= t).astype(int)[(df['y_exit12'] == 1) & (df['female'] == 1)].mean()\n",
    "p_0_tpr = (df['risk_score_eo'] >= t).astype(int)[(df['y_exit12'] == 1) & (df['female'] == 0)].mean()\n",
    "\n",
    "p_1_fpr = (df['risk_score_eo'] >= t).astype(int)[(df['y_exit12'] == 0) & (df['female'] == 1)].mean()\n",
    "p_0_fpr = (df['risk_score_eo'] >= t).astype(int)[(df['y_exit12'] == 0) & (df['female'] == 0)].mean()\n",
    "\n",
    "print('EO:')\n",
    "print('P(y_hat=1|A=1,Y=1) - P(y_hat=1|A=0,Y=1) = ' + str(np.abs(p_1_tpr - p_0_tpr)))\n",
    "print('P(y_hat=1|A=1,Y=0) - P(y_hat=1|A=0,Y=0) = ' + str(np.abs(p_1_fpr - p_0_fpr)))\n",
    "\n",
    "# if\n",
    "p_1_tpr = (df['risk_score_if'] >= t).astype(int)[(df['y_exit12'] == 1) & (df['female'] == 1)].mean()\n",
    "p_0_tpr = (df['risk_score_if'] >= t).astype(int)[(df['y_exit12'] == 1) & (df['female'] == 0)].mean()\n",
    "\n",
    "p_1_fpr = (df['risk_score_if'] >= t).astype(int)[(df['y_exit12'] == 0) & (df['female'] == 1)].mean()\n",
    "p_0_fpr = (df['risk_score_if'] >= t).astype(int)[(df['y_exit12'] == 0) & (df['female'] == 0)].mean()\n",
    "\n",
    "print('If:')\n",
    "print('P(y_hat=1|A=1,Y=1) - P(y_hat=1|A=0,Y=1) = ' + str(np.abs(p_1_tpr - p_0_tpr)))\n",
    "print('P(y_hat=1|A=1,Y=0) - P(y_hat=1|A=0,Y=0) = ' + str(np.abs(p_1_fpr - p_0_fpr)))"
   ]
  },
  {
   "cell_type": "code",
   "execution_count": 14,
   "id": "8a5960e3-9263-4558-bc23-3a6cbb683259",
   "metadata": {},
   "outputs": [
    {
     "data": {
      "text/plain": [
       "0.42136207741303283"
      ]
     },
     "execution_count": 14,
     "metadata": {},
     "output_type": "execute_result"
    }
   ],
   "source": [
    "(df['risk_score_eo'] >= t).astype(int)[(df['y_exit12'] == 1) & (df['female'] == 1)].mean()\n",
    "# (df['risk_score_eo'] >= t).astype(int)[(df['y_exit12'] == 1) & (df['female'] == 0)].mean()"
   ]
  },
  {
   "cell_type": "markdown",
   "id": "f8955c77-9087-4f2c-ae76-898f0ce1948d",
   "metadata": {},
   "source": [
    "## Sufficiency Test"
   ]
  },
  {
   "cell_type": "code",
   "execution_count": 107,
   "id": "cf096cbf-16a0-483e-9475-93b7ed6d6d33",
   "metadata": {},
   "outputs": [
    {
     "name": "stdout",
     "output_type": "stream",
     "text": [
      "Log:\n",
      "P(y=1|A=1,y_hat=0) - P(y=1|A=0,y_hat=0) = 0.011153121877831185\n",
      "P(y=1|A=1,y_hat=1) - P(y=1|A=0,y_hat=1) = 0.061569190176363864\n",
      "SP:\n",
      "P(y=1|A=1,y_hat=0) - P(y=1|A=0,y_hat=0) = 0.011270600947347553\n",
      "P(y=1|A=1,y_hat=1) - P(y=1|A=0,y_hat=1) = 0.07249432993750904\n",
      "EO:\n",
      "P(y=1|A=1,y_hat=0) - P(y=1|A=0,y_hat=0) = 0.015842253303519682\n",
      "P(y=1|A=1,y_hat=1) - P(y=1|A=0,y_hat=1) = 0.0814027177143326\n",
      "If:\n",
      "P(y=1|A=1,y_hat=0) - P(y=1|A=0,y_hat=0) = 0.0148412082985388\n",
      "P(y=1|A=1,y_hat=1) - P(y=1|A=0,y_hat=1) = 0.08066751301505892\n"
     ]
    }
   ],
   "source": [
    "# log\n",
    "p_a1y0 = df['y_exit12'][(df['female'] == 1) & ((df['risk_score_log'] >= t).astype(int) == 0)].mean()\n",
    "p_a0y0 = df['y_exit12'][(df['female'] == 0) & ((df['risk_score_log'] >= t).astype(int) == 0)].mean()\n",
    "\n",
    "p_a1y1 = df['y_exit12'][(df['female'] == 1) & ((df['risk_score_log'] >= t).astype(int) == 1)].mean()\n",
    "p_a0y1 = df['y_exit12'][(df['female'] == 0) & ((df['risk_score_log'] >= t).astype(int) == 1)].mean()\n",
    "\n",
    "print('Log:')\n",
    "print('P(y=1|A=1,y_hat=0) - P(y=1|A=0,y_hat=0) = ' + str(np.abs(p_a1y0 - p_a0y0)))\n",
    "print('P(y=1|A=1,y_hat=1) - P(y=1|A=0,y_hat=1) = ' + str(np.abs(p_a1y1 - p_a0y1)))\n",
    "\n",
    "# sp\n",
    "p_a1y0 = df['y_exit12'][(df['female'] == 1) & ((df['risk_score_sp'] >= t).astype(int) == 0)].mean()\n",
    "p_a0y0 = df['y_exit12'][(df['female'] == 0) & ((df['risk_score_sp'] >= t).astype(int) == 0)].mean()\n",
    "\n",
    "p_a1y1 = df['y_exit12'][(df['female'] == 1) & ((df['risk_score_sp'] >= t).astype(int) == 1)].mean()\n",
    "p_a0y1 = df['y_exit12'][(df['female'] == 0) & ((df['risk_score_sp'] >= t).astype(int) == 1)].mean()\n",
    "\n",
    "print('SP:')\n",
    "print('P(y=1|A=1,y_hat=0) - P(y=1|A=0,y_hat=0) = ' + str(np.abs(p_a1y0 - p_a0y0)))\n",
    "print('P(y=1|A=1,y_hat=1) - P(y=1|A=0,y_hat=1) = ' + str(np.abs(p_a1y1 - p_a0y1)))\n",
    "\n",
    "# eo\n",
    "p_a1y0 = df['y_exit12'][(df['female'] == 1) & ((df['risk_score_eo'] >= t).astype(int) == 0)].mean()\n",
    "p_a0y0 = df['y_exit12'][(df['female'] == 0) & ((df['risk_score_eo'] >= t).astype(int) == 0)].mean()\n",
    "\n",
    "p_a1y1 = df['y_exit12'][(df['female'] == 1) & ((df['risk_score_eo'] >= t).astype(int) == 1)].mean()\n",
    "p_a0y1 = df['y_exit12'][(df['female'] == 0) & ((df['risk_score_eo'] >= t).astype(int) == 1)].mean()\n",
    "\n",
    "print('EO:')\n",
    "print('P(y=1|A=1,y_hat=0) - P(y=1|A=0,y_hat=0) = ' + str(np.abs(p_a1y0 - p_a0y0)))\n",
    "print('P(y=1|A=1,y_hat=1) - P(y=1|A=0,y_hat=1) = ' + str(np.abs(p_a1y1 - p_a0y1)))\n",
    "\n",
    "# if\n",
    "p_a1y0 = df['y_exit12'][(df['female'] == 1) & ((df['risk_score_if'] >= t).astype(int) == 0)].mean()\n",
    "p_a0y0 = df['y_exit12'][(df['female'] == 0) & ((df['risk_score_if'] >= t).astype(int) == 0)].mean()\n",
    "\n",
    "p_a1y1 = df['y_exit12'][(df['female'] == 1) & ((df['risk_score_if'] >= t).astype(int) == 1)].mean()\n",
    "p_a0y1 = df['y_exit12'][(df['female'] == 0) & ((df['risk_score_if'] >= t).astype(int) == 1)].mean()\n",
    "\n",
    "print('If:')\n",
    "print('P(y=1|A=1,y_hat=0) - P(y=1|A=0,y_hat=0) = ' + str(np.abs(p_a1y0 - p_a0y0)))\n",
    "print('P(y=1|A=1,y_hat=1) - P(y=1|A=0,y_hat=1) = ' + str(np.abs(p_a1y1 - p_a0y1)))"
   ]
  },
  {
   "cell_type": "markdown",
   "id": "7d6ba65c-e7c6-4a12-80d3-5f95b43bf7f8",
   "metadata": {},
   "source": [
    "# Baseline logistic regression"
   ]
  },
  {
   "cell_type": "code",
   "execution_count": 21,
   "id": "0ab9d87d-d42f-492a-b24e-7e3f5d5e9664",
   "metadata": {},
   "outputs": [],
   "source": [
    "from sklearn.model_selection import train_test_split\n",
    "from sklearn.linear_model import LogisticRegression\n"
   ]
  },
  {
   "cell_type": "code",
   "execution_count": 22,
   "id": "3b246bef-940a-4bec-a40e-ce3a3c3f7cf6",
   "metadata": {},
   "outputs": [],
   "source": [
    "# Var list including all dummy categories.\n",
    "risk_var_list = [\"age\",\"canton_moth_tongue\",\"city_big\",\"city_medium\",\"city_no\",\n",
    "                   \"emp_share_last_2yrs\",\"emp_spells_5yrs\",\n",
    "                   \"female\",\"foreigner_b\",\"foreigner_c\",\"gdp_pc\",\"married\",\"other_mother_tongue\",\"past_income\",\n",
    "                   \"prev_job_manager\",\"prev_job_sec_mis\",\"prev_job_sec1\",\"prev_job_sec2\",\n",
    "                   \"prev_job_sec3\",\"prev_job_self\",\"prev_job_skilled\",\"prev_job_unskilled\",\n",
    "                   \"qual_semiskilled\",\"qual_degree\",\"qual_unskilled\",\"qual_wo_degree\",\n",
    "                   \"swiss\",\"ue_spells_last_2yrs\",\"unemp_rate\"\n",
    "                ]"
   ]
  },
  {
   "cell_type": "code",
   "execution_count": 23,
   "id": "ba198c11-21fd-46be-87ea-fb14e62fdd1f",
   "metadata": {},
   "outputs": [],
   "source": [
    "# prepare data\n",
    "y = df['y_exit12']\n",
    "X = df[risk_var_list]\n",
    "\n",
    "X_train,X_test,y_train,y_test = train_test_split(X, y, test_size=0.3, random_state=42)\n",
    "\n",
    "female_naive = np.squeeze((X_test['female'] == 1).values)\n",
    "male_naive = np.squeeze((X_test['female'] == 0).values)"
   ]
  },
  {
   "cell_type": "code",
   "execution_count": 24,
   "id": "2361dcf3-be09-4001-b4fc-968da9f595c8",
   "metadata": {},
   "outputs": [],
   "source": [
    "# Create a logistic regression model\n",
    "logreg = LogisticRegression()\n",
    "logreg = logreg.fit(X_train, y_train)\n",
    "\n",
    "y_pred_logreg = logreg.predict(X_test)\n",
    "y_proba_logreg = logreg.predict_proba(X_test)\n",
    "y_score_logreg = y_proba_logreg[:,1]"
   ]
  },
  {
   "cell_type": "code",
   "execution_count": 25,
   "id": "8b0aec6f-6bcb-44db-b520-59203a05b268",
   "metadata": {},
   "outputs": [
    {
     "data": {
      "image/png": "[encoded data removed]",
      "text/plain": [
       "<Figure size 640x480 with 1 Axes>"
      ]
     },
     "metadata": {},
     "output_type": "display_data"
    }
   ],
   "source": [
    "#plt.hist(y_score_logreg, bins=100, alpha=0.5)\n",
    "plt.hist(df['risk_score_log'], bins=100, alpha=0.2, label='log')\n",
    "plt.hist(df['risk_score_sp'], bins=100, alpha=0.2, label='sp')\n",
    "plt.hist(df['risk_score_eo'], bins=100, alpha=0.2, label='eo')\n",
    "plt.hist(df['risk_score_if'], bins=100, alpha=0.2, label='if')\n",
    "plt.legend()\n",
    "plt.tight_layout()\n",
    "plt.show()"
   ]
  },
  {
   "cell_type": "code",
   "execution_count": null,
   "id": "24ad6842-b9a0-48a7-99d2-401c8494e2d4",
   "metadata": {},
   "outputs": [],
   "source": []
  },
  {
   "cell_type": "code",
   "execution_count": null,
   "id": "3393468c-d9c9-453d-beab-4bc6446eec4a",
   "metadata": {},
   "outputs": [],
   "source": []
  }
 ],
 "metadata": {
  "kernelspec": {
   "display_name": "Python 3 (ipykernel)",
   "language": "python",
   "name": "python3"
  },
  "language_info": {
   "codemirror_mode": {
    "name": "ipython",
    "version": 3
   },
   "file_extension": ".py",
   "mimetype": "text/x-python",
   "name": "python",
   "nbconvert_exporter": "python",
   "pygments_lexer": "ipython3",
   "version": "3.11.7"
  }
 },
 "nbformat": 4,
 "nbformat_minor": 5
}
